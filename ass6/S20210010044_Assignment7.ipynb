{
 "cells": [
  {
   "cell_type": "code",
   "execution_count": 7,
   "metadata": {},
   "outputs": [
    {
     "name": "stdout",
     "output_type": "stream",
     "text": [
      "\n",
      "Name:- Abhishikth Boda\n",
      "Roll Number:- S20210010044\n",
      "Course:- Machine Learning\n",
      "Section:- 2\n",
      "Assignment Number:- 7\n",
      "Date:- 5th October 2023\n",
      "\n",
      "Data is being loaded\n",
      "\n"
     ]
    }
   ],
   "source": [
    "import numpy as np\n",
    "import pandas as pd\n",
    "import matplotlib.pyplot as plt\n",
    "\n",
    "print('\\nName:- Abhishikth Boda')\n",
    "print('Roll Number:- S20210010044')\n",
    "print('Course:- Machine Learning')\n",
    "print('Section:- 2')\n",
    "print('Assignment Number:- 7')\n",
    "print('Date:- 5th October 2023\\n')\n",
    "\n",
    "print('Data is being loaded\\n')"
   ]
  },
  {
   "cell_type": "code",
   "execution_count": 8,
   "metadata": {},
   "outputs": [],
   "source": [
    "data = pd.read_csv('a.csv')\n",
    "\n",
    "X = data[['GRE Score', 'TOEFL Score', 'University Rating', 'SOP', 'LOR', 'CGPA', 'Research']]\n",
    "y = data['Chance of Admit']"
   ]
  },
  {
   "cell_type": "code",
   "execution_count": 9,
   "metadata": {},
   "outputs": [],
   "source": [
    "X = (X - X.mean()) / X.std()\n",
    "\n",
    "num_samples = X.shape[0]\n",
    "num_train = int(0.8 * num_samples)\n",
    "X_train, X_test = X[:num_train], X[num_train:]\n",
    "y_train, y_test = y[:num_train], y[num_train:]\n",
    "learning_rate = 0.01  \n",
    "max_iters = 100      \n",
    "theta = np.zeros(X.shape[1]) \n",
    "sse_train_history = []"
   ]
  },
  {
   "cell_type": "code",
   "execution_count": 10,
   "metadata": {},
   "outputs": [],
   "source": [
    "for i in range(max_iters):\n",
    "    y_pred = np.dot(X_train, theta)\n",
    "    error = y_pred - y_train\n",
    "    gradient = np.dot(X_train.T, error) / num_train\n",
    "    theta -= learning_rate * gradient\n",
    "    sse_train = np.sum(error ** 2)\n",
    "    sse_train_history.append(sse_train)\n",
    "\n",
    "y_pred_test = np.dot(X_test, theta)\n",
    "coefficients = theta\n",
    "sse_train = sse_train_history[-1]\n",
    "sse_test = np.sum((y_pred_test - y_test) ** 2)\n",
    "\n",
    "mse_train = sse_train / num_train\n",
    "mse_test = sse_test / (num_samples - num_train)\n",
    "y_mean = np.mean(y_train)\n",
    "sst_train = np.sum((y_train - y_mean) ** 2)\n",
    "sst_test = np.sum((y_test - y_mean) ** 2)\n",
    "r2_train = 1 - (sse_train / sst_train)\n",
    "r2_test = 1 - (mse_test / sst_test)"
   ]
  },
  {
   "cell_type": "code",
   "execution_count": 11,
   "metadata": {},
   "outputs": [
    {
     "name": "stdout",
     "output_type": "stream",
     "text": [
      "Coefficients: [ 0.03816303  0.04000644 -0.001658    0.02829139 -0.00552067  0.0496973\n",
      " -0.00214971]\n",
      "SSE (Train): 208.70946665838989\n",
      "SSE (Test): 53.96489277585553\n",
      "MSE (Train): 0.5217736666459747\n",
      "MSE (Test): 0.5396489277585553\n",
      "R2 Score (Train): -24.720142623662113\n",
      "R2 Score (Test): 0.7049746555922529\n"
     ]
    }
   ],
   "source": [
    "print(\"Coefficients:\", coefficients)\n",
    "print(\"SSE (Train):\", sse_train)\n",
    "print(\"SSE (Test):\", sse_test)\n",
    "print(\"MSE (Train):\", mse_train)\n",
    "print(\"MSE (Test):\", mse_test)\n",
    "print(\"R2 Score (Train):\", r2_train)\n",
    "print(\"R2 Score (Test):\", r2_test)"
   ]
  }
 ],
 "metadata": {
  "kernelspec": {
   "display_name": "Python 3",
   "language": "python",
   "name": "python3"
  },
  "language_info": {
   "codemirror_mode": {
    "name": "ipython",
    "version": 3
   },
   "file_extension": ".py",
   "mimetype": "text/x-python",
   "name": "python",
   "nbconvert_exporter": "python",
   "pygments_lexer": "ipython3",
   "version": "3.11.0"
  }
 },
 "nbformat": 4,
 "nbformat_minor": 2
}
