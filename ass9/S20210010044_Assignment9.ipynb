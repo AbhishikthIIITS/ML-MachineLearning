{
 "cells": [
  {
   "cell_type": "code",
   "execution_count": 1,
   "metadata": {},
   "outputs": [
    {
     "name": "stdout",
     "output_type": "stream",
     "text": [
      "\n",
      "Name:- Abhishikth Boda\n",
      "Roll Number:- S20210010044\n",
      "Course:- Machine Learning\n",
      "Section:- 2\n",
      "Assignment Number:- 9\n",
      "Date:- 2th November 2023\n",
      "\n",
      "Data is being loaded\n",
      "\n"
     ]
    }
   ],
   "source": [
    "import numpy as np\n",
    "import pandas as pd\n",
    "from sklearn.model_selection import cross_val_score, train_test_split\n",
    "from sklearn.svm import SVC\n",
    "from sklearn.preprocessing import StandardScaler\n",
    "print('\\nName:- Abhishikth Boda')\n",
    "print('Roll Number:- S20210010044')\n",
    "print('Course:- Machine Learning')\n",
    "print('Section:- 2')\n",
    "print('Assignment Number:- 9')\n",
    "print('Date:- 2th November 2023\\n')\n",
    "\n",
    "print('Data is being loaded\\n')"
   ]
  },
  {
   "cell_type": "code",
   "execution_count": 2,
   "metadata": {},
   "outputs": [],
   "source": [
    "wine_data = pd.read_csv('winequality-white-Train.csv')\n",
    "\n",
    "X = wine_data.drop('quality', axis=1)\n",
    "y = wine_data['quality']\n",
    "\n",
    "X_train, X_test, y_train, y_test = train_test_split(X, y, test_size=0.2, random_state=42)"
   ]
  },
  {
   "cell_type": "code",
   "execution_count": 3,
   "metadata": {},
   "outputs": [],
   "source": [
    "scaler = StandardScaler()\n",
    "X_train = scaler.fit_transform(X_train)\n",
    "X_test = scaler.transform(X_test)\n",
    "\n",
    "best_c = None\n",
    "best_score = -1\n",
    "cv_scores = []\n",
    "\n",
    "C_values = [0.001, 0.01, 0.1, 1, 10, 100]\n",
    "\n",
    "for c in C_values:\n",
    "    svm = SVC(C=c, kernel='rbf')\n",
    "    scores = cross_val_score(svm, X_train, y_train, cv=3, scoring='accuracy')\n",
    "    mean_score = np.mean(scores)\n",
    "    \n",
    "    if mean_score > best_score:\n",
    "        best_score = mean_score\n",
    "        best_c = c\n",
    "    cv_scores.append(mean_score)\n",
    "\n",
    "final_svm = SVC(C=best_c, kernel='rbf')\n",
    "final_svm.fit(X_train, y_train)\n",
    "\n",
    "test_accuracy = final_svm.score(X_test, y_test)"
   ]
  },
  {
   "cell_type": "code",
   "execution_count": 4,
   "metadata": {},
   "outputs": [
    {
     "name": "stdout",
     "output_type": "stream",
     "text": [
      "Cross-validation results for different C values:\n",
      "C=0.001: Mean Accuracy = 0.4565\n",
      "C=0.01: Mean Accuracy = 0.4565\n",
      "C=0.1: Mean Accuracy = 0.5183\n",
      "C=1: Mean Accuracy = 0.5687\n",
      "C=10: Mean Accuracy = 0.5671\n",
      "C=100: Mean Accuracy = 0.5601\n",
      "Best C value: 1\n",
      "Test Accuracy with the best C: 0.5587\n"
     ]
    }
   ],
   "source": [
    "\n",
    "print(\"Cross-validation results for different C values:\")\n",
    "for c, score in zip(C_values, cv_scores):\n",
    "    print(f\"C={c}: Mean Accuracy = {score:.4f}\")\n",
    "\n",
    "print(f\"Best C value: {best_c}\")\n",
    "print(f\"Test Accuracy with the best C: {test_accuracy:.4f}\")\n"
   ]
  }
 ],
 "metadata": {
  "kernelspec": {
   "display_name": "Python 3",
   "language": "python",
   "name": "python3"
  },
  "language_info": {
   "codemirror_mode": {
    "name": "ipython",
    "version": 3
   },
   "file_extension": ".py",
   "mimetype": "text/x-python",
   "name": "python",
   "nbconvert_exporter": "python",
   "pygments_lexer": "ipython3",
   "version": "3.11.0"
  }
 },
 "nbformat": 4,
 "nbformat_minor": 2
}
