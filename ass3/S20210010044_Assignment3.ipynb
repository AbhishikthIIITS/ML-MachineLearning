{
  "nbformat": 4,
  "nbformat_minor": 0,
  "metadata": {
    "colab": {
      "provenance": []
    },
    "kernelspec": {
      "name": "python3",
      "display_name": "Python 3"
    },
    "language_info": {
      "name": "python"
    }
  },
  "cells": [
    {
      "cell_type": "code",
      "execution_count": 5,
      "metadata": {
        "colab": {
          "base_uri": "https://localhost:8080/"
        },
        "id": "dIwNyu6Slviu",
        "outputId": "724916a4-01ab-474f-e13c-d06d71d79f5a"
      },
      "outputs": [
        {
          "output_type": "stream",
          "name": "stdout",
          "text": [
            "\n",
            "Name:- Abhishikth Boda\n",
            "Roll Number:- S20210010044\n",
            "Course:- Machine Learning\n",
            "Section:- 2\n",
            "Assignment Number:- 3\n",
            "Date:- 24th August 2023\n",
            "\n",
            "Program is being executed\n",
            "\n",
            "Best k: 1, Best p: 4\n",
            "Best k accuracy: 0.9123, Best p accuracy: 0.9244\n"
          ]
        }
      ],
      "source": [
        "import pandas as pd\n",
        "import numpy as np\n",
        "\n",
        "\n",
        "\n",
        "print('\\nName:- Abhishikth Boda')\n",
        "print('Roll Number:- S20210010044')\n",
        "print('Course:- Machine Learning')\n",
        "print('Section:- 2')\n",
        "print('Assignment Number:- 3')\n",
        "print('Date:- 24th August 2023\\n')\n",
        "\n",
        "print('Program is being executed\\n')\n",
        "\n",
        "\n",
        "# Load the OCR dataset using pandas\n",
        "dataset_path = 'pp_tra.dat'\n",
        "data = pd.read_csv(dataset_path, sep=' ', header=None)\n",
        "X = data.iloc[:, :-1].values\n",
        "y = data.iloc[:, -1].values\n",
        "\n",
        "# Load the test dataset\n",
        "test_dataset_path = 'pp_tes.dat'\n",
        "test_data = pd.read_csv(test_dataset_path, sep=' ', header=None)\n",
        "X_test = test_data.iloc[:, :-1].values\n",
        "y_test = test_data.iloc[:, -1].values\n",
        "\n",
        "# Implement KNN and cross-validation manually\n",
        "def minkowski_distance(x1, x2, p):\n",
        "    return np.linalg.norm(x1 - x2, ord=p)\n",
        "\n",
        "def knn_predict(X_train, y_train, x_test, k, p):\n",
        "    distances = [minkowski_distance(x, x_test, p) for x in X_train]\n",
        "    sorted_indices = np.argsort(distances)\n",
        "    k_nearest_labels = [y_train[i] for i in sorted_indices[:k]]\n",
        "    unique_labels, counts = np.unique(k_nearest_labels, return_counts=True)\n",
        "    return unique_labels[np.argmax(counts)]\n",
        "\n",
        "def cross_validate(X, y, k_values, p_values, num_folds=3):\n",
        "    best_accuracy = 0\n",
        "    best_k = 0\n",
        "    best_p = 0\n",
        "\n",
        "    # Split data into folds\n",
        "    fold_size = len(X) // num_folds\n",
        "    for k in k_values:\n",
        "        for p in p_values:\n",
        "            total_accuracy = 0\n",
        "            for fold in range(num_folds):\n",
        "                start, end = fold * fold_size, (fold + 1) * fold_size\n",
        "                X_val_fold, y_val_fold = X[start:end], y[start:end]\n",
        "                X_train_fold = np.concatenate([X[:start], X[end:]])\n",
        "                y_train_fold = np.concatenate([y[:start], y[end:]])\n",
        "\n",
        "                correct_predictions = 0\n",
        "                for i, x_val in enumerate(X_val_fold):\n",
        "                    predicted_label = knn_predict(X_train_fold, y_train_fold, x_val, k, p)\n",
        "                    if predicted_label == y_val_fold[i]:\n",
        "                        correct_predictions += 1\n",
        "\n",
        "                fold_accuracy = correct_predictions / len(X_val_fold)\n",
        "                total_accuracy += fold_accuracy\n",
        "\n",
        "            avg_accuracy = total_accuracy / num_folds\n",
        "            if avg_accuracy > best_accuracy:\n",
        "                best_accuracy = avg_accuracy\n",
        "                best_k = k\n",
        "                best_p = p\n",
        "\n",
        "    return best_k, best_p\n",
        "\n",
        "# Find best k and p\n",
        "k_values = range(1, 21)\n",
        "p_values = range(1, 5)\n",
        "best_k, best_p = cross_validate(X, y, k_values, p_values)\n",
        "print(f\"Best k: {best_k}, Best p: {best_p}\")\n",
        "\n",
        "# Evaluate the best KNN classifier on the test set\n",
        "correct_predictions = 0\n",
        "for i, x_test in enumerate(X_test):\n",
        "    predicted_label = knn_predict(X, y, x_test, best_k, best_p)\n",
        "    if predicted_label == y_test[i]:\n",
        "        correct_predictions += 1\n",
        "\n",
        "test_accuracy = correct_predictions / len(X_test)\n",
        "print(f\"Test accuracy with best k and p: {test_accuracy}\")\n",
        "\n",
        "\n"
      ]
    }
  ]
}