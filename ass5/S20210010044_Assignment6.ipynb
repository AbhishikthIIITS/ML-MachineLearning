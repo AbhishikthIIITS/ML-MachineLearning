{
 "cells": [
  {
   "cell_type": "code",
   "execution_count": 2,
   "metadata": {},
   "outputs": [
    {
     "name": "stdout",
     "output_type": "stream",
     "text": [
      "\n",
      "Name:- Abhishikth Boda\n",
      "Roll Number:- S20210010044\n",
      "Course:- Machine Learning\n",
      "Section:- 2\n",
      "Assignment Number:- 6\n",
      "Date:- 21st September 2023\n",
      "\n",
      "Data is being loaded\n",
      "\n"
     ]
    }
   ],
   "source": [
    "import numpy as np\n",
    "\n",
    "from sklearn import datasets\n",
    "from sklearn.model_selection import train_test_split\n",
    "from sklearn.metrics import accuracy_score\n",
    "\n",
    "print('\\nName:- Abhishikth Boda')\n",
    "print('Roll Number:- S20210010044')\n",
    "print('Course:- Machine Learning')\n",
    "print('Section:- 2')\n",
    "print('Assignment Number:- 6')\n",
    "print('Date:- 21st September 2023\\n')\n",
    "\n",
    "print('Data is being loaded\\n')\n",
    "\n",
    "iris = datasets.load_iris()\n",
    "X = iris.data\n",
    "y = iris.target"
   ]
  },
  {
   "cell_type": "code",
   "execution_count": 3,
   "metadata": {},
   "outputs": [],
   "source": [
    "X_train, X_test, y_train, y_test = train_test_split(X, y, test_size=0.2, random_state=42)\n",
    "\n",
    "X_train_discretized = X_train.round().astype(int)\n",
    "X_test_discretized = X_test.round().astype(int)"
   ]
  },
  {
   "cell_type": "code",
   "execution_count": 4,
   "metadata": {},
   "outputs": [],
   "source": [
    "class NaiveBayesClassifier:\n",
    "    def __init__(self):\n",
    "        self.class_probs = {}  \n",
    "        self.feature_probs = {} \n",
    "\n",
    "    def fit(self, X, y):\n",
    "        n_samples, n_features = X.shape\n",
    "        self.classes = np.unique(y)\n",
    "\n",
    "        for c in self.classes:\n",
    "            self.class_probs[c] = np.sum(y == c) / n_samples\n",
    "\n",
    "        for c in self.classes:\n",
    "            self.feature_probs[c] = {}\n",
    "            for feature_idx in range(n_features):\n",
    "                unique_values = np.unique(X[:, feature_idx])\n",
    "                self.feature_probs[c][feature_idx] = {}\n",
    "                for value in unique_values:\n",
    "                    count = np.sum((X[:, feature_idx] == value) & (y == c))\n",
    "                    self.feature_probs[c][feature_idx][value] = count / np.sum(y == c)\n",
    "\n",
    "    def predict(self, X):\n",
    "        predictions = []\n",
    "        for sample in X:\n",
    "            max_prob = -1\n",
    "            predicted_class = None\n",
    "            for c in self.classes:\n",
    "                prob = self.class_probs[c]\n",
    "                for feature_idx, value in enumerate(sample):\n",
    "                    if value in self.feature_probs[c][feature_idx]:\n",
    "                        prob *= self.feature_probs[c][feature_idx][value]\n",
    "                    else:\n",
    "                        prob = 0  \n",
    "                if prob > max_prob:\n",
    "                    max_prob = prob\n",
    "                    predicted_class = c\n",
    "            predictions.append(predicted_class)\n",
    "        return predictions"
   ]
  },
  {
   "cell_type": "code",
   "execution_count": 5,
   "metadata": {},
   "outputs": [
    {
     "name": "stdout",
     "output_type": "stream",
     "text": [
      "Performance of Naive Bayes Classifier on Discretized Data:\n",
      "Accuracy: 0.9667\n",
      "\n",
      "Performance of Naive Bayes Classifier on Original (Non-Discretized) Data:\n",
      "Accuracy: 0.8333\n"
     ]
    }
   ],
   "source": [
    "\n",
    "\n",
    "nb_classifier_discretized = NaiveBayesClassifier()\n",
    "nb_classifier_discretized.fit(X_train_discretized, y_train)\n",
    "\n",
    "y_pred_discretized = nb_classifier_discretized.predict(X_test_discretized)\n",
    "accuracy_discretized = accuracy_score(y_test, y_pred_discretized)\n",
    "\n",
    "print(\"Performance of Naive Bayes Classifier on Discretized Data:\")\n",
    "print(f\"Accuracy: {accuracy_discretized:.4f}\")\n",
    "\n",
    "nb_classifier_original = NaiveBayesClassifier()\n",
    "nb_classifier_original.fit(X_train, y_train)\n",
    "\n",
    "y_pred_original = nb_classifier_original.predict(X_test)\n",
    "accuracy_original = accuracy_score(y_test, y_pred_original)\n",
    "\n",
    "print(\"\\nPerformance of Naive Bayes Classifier on Original (Non-Discretized) Data:\")\n",
    "print(f\"Accuracy: {accuracy_original:.4f}\")"
   ]
  }
 ],
 "metadata": {
  "kernelspec": {
   "display_name": "Python 3",
   "language": "python",
   "name": "python3"
  },
  "language_info": {
   "codemirror_mode": {
    "name": "ipython",
    "version": 3
   },
   "file_extension": ".py",
   "mimetype": "text/x-python",
   "name": "python",
   "nbconvert_exporter": "python",
   "pygments_lexer": "ipython3",
   "version": "3.11.0"
  },
  "orig_nbformat": 4
 },
 "nbformat": 4,
 "nbformat_minor": 2
}
